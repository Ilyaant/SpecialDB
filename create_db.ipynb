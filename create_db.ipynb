{
 "cells": [
  {
   "cell_type": "code",
   "execution_count": 1,
   "metadata": {},
   "outputs": [],
   "source": [
    "import sqlite3\n",
    "conn = sqlite3.connect('Cleaning_Company.db')\n",
    "\n",
    "c = conn.cursor()\n",
    "\n",
    "# Оценки (обратная связь)\n",
    "c.execute('''create table Rates(ID int primary key, Rate int not null, Criteria varchar(250) not null)''')\n",
    "# Должности\n",
    "c.execute('''create table Positions(ID int primary key, Naming varchar(50) not null, Salary int not null)''')\n",
    "# Юридические лица\n",
    "c.execute('''create table Entities(ID int primary key, Naming varchar(50) not null, Square_Offices int not null, E_Address varchar(100) not null)''')\n",
    "# Физические лица\n",
    "c.execute('''create table Individuals(Passport_SN int primary key, F_Name varchar(50) not null, S_Name varchar(50), L_Name varchar(50) not null, I_Address varchar(100) not null, Room_Square int not null)''')\n",
    "# Услуги\n",
    "c.execute('''create table C_Services(ID int primary key, Naming varchar(50) not null, Cost_m2 int not null, Popularity int)''')\n",
    "# Типы работ\n",
    "c.execute('''create table Work_Types(ID int primary key, Naming varchar(100) not null)''')\n",
    "# Спецификации всех работ\n",
    "c.execute('''create table Work_Spec(ID int primary key, W_Date date not null, W_Time time not null)''')\n",
    "# Работники\n",
    "c.execute('''create table Employees(Passport_SN int primary key, ID_Positions int references Positions(ID), F_Name varchar(50) not null, S_Name varchar(50), L_Name varchar(50) not null, Salary int, Date_Birth date not null, Date_hire date not null)''')\n",
    "# Заказы\n",
    "c.execute('''create table Orders(Number int primary key, ID_Work_Spec int references Work_Spec(ID), O_Date date not null)''')\n",
    "# Журнал\n",
    "c.execute('''create table Register(Passport_SN_Employees int references Employees(Passport_SN), ID_Rates int references Rates(ID), Number_Orders int references Orders(Number), W_date date not null)''')\n",
    "# Договоры\n",
    "c.execute('''create table Contracts(Number int primary key, Passport_SN_Individuals int references Individuals(Passport_SN), ID_Entities int references Entities(ID), Number_Orders int references Orders(Number), C_Name varchar(100) not null, Sign_Date date not null, Date_Start date, Date_End date)''')\n",
    "# Соотношение физ. лицо - работник\n",
    "c.execute('''create table Employees_Individuals(Passport_SN_Employees int references Employees(Passport_SN), Passport_SN_Individuals int references Individuals(Passport_SN))''')\n",
    "# Соотношение юр. лицо - работник\n",
    "c.execute('''create table Employees_Entities(Passport_SN_Employees int references Employees(Passport_SN), ID_Entities int references Entities(ID))''')\n",
    "# Соотношение договоры - услуги\n",
    "c.execute('''create table Contracts_C_Services(Number_Contracts int references Contracts(Number), ID_C_Services int references C_Services(ID))''')\n",
    "# Соотношение спецификации - типы работ\n",
    "c.execute('''create table Work_Spec_Work_Types(ID_Work_Spec int references Work_Spec(ID), ID_Work_Types int references Work_Types(ID))''')\n",
    "\n",
    "conn.commit()\n",
    "conn.close()"
   ]
  }
 ],
 "metadata": {
  "kernelspec": {
   "display_name": "Python 3",
   "language": "python",
   "name": "python3"
  },
  "language_info": {
   "codemirror_mode": {
    "name": "ipython",
    "version": 3
   },
   "file_extension": ".py",
   "mimetype": "text/x-python",
   "name": "python",
   "nbconvert_exporter": "python",
   "pygments_lexer": "ipython3",
   "version": "3.9.4"
  },
  "orig_nbformat": 4
 },
 "nbformat": 4,
 "nbformat_minor": 2
}
